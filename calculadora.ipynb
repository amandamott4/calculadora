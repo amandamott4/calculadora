{
 "cells": [
  {
   "cell_type": "code",
   "execution_count": 13,
   "id": "6243925d",
   "metadata": {},
   "outputs": [
    {
     "name": "stdout",
     "output_type": "stream",
     "text": [
      "\n",
      "******************* Calculadora em Python *******************\n",
      "selecione o numero da operação desejada: \n",
      "1 - soma\n",
      "2 - subtração\n",
      "3 - multiplicação\n",
      "4 - divisao\n",
      "digite a operação (1/2/3/4): 6\n",
      "digite o primeiro numero: 4\n",
      "digite o segundo numero: 7\n",
      "Operação inválida! Escolha de 1 a 4\n"
     ]
    }
   ],
   "source": [
    "print(\"\\n******************* Calculadora em Python *******************\")\n",
    "\n",
    "print(\"selecione o numero da operação desejada: \")\n",
    "\n",
    "print(\"1 - soma\")\n",
    "print(\"2 - subtração\")\n",
    "print(\"3 - multiplicação\")\n",
    "print(\"4 - divisao\")\n",
    "\n",
    "\n",
    "operação = input(\"digite a operação (1/2/3/4): \")\n",
    "\n",
    "primeiroNUmero = int(input(\"digite o primeiro numero: \"))\n",
    "\n",
    "segundoNumero = int(input(\"digite o segundo numero: \"))\n",
    "\n",
    "if operação == \"1\":\n",
    "    resultado = primeiroNUmero + segundoNumero \n",
    "    print(f\"Resultado: {primeiroNUmero} + {segundoNumero} = {resultado: }\")\t\n",
    "\n",
    "elif operação == \"2\":\n",
    "    resultado = primeiroNUmero - segundoNumero \n",
    "    print(f\"Resultado: {primeiroNUmero} - {segundoNumero} = {resultado: }\")\n",
    "\n",
    "elif operação == \"3\":\n",
    "    resultado = primeiroNUmero * segundoNumero \n",
    "    print(f\"Resultado: {primeiroNUmero} x {segundoNumero} = {resultado: }\")\n",
    "\n",
    "elif operação == \"4\":\n",
    "    if segundoNumero != 0:\n",
    "        resultado = primeiroNUmero / segundoNumero \n",
    "        print(f\"Resultado: {primeiroNUmero} / {segundoNumero} = {resultado:.2f}\")\n",
    "    else:\n",
    "        print(\"Não é possivel dividir por zero!\")\n",
    "\n",
    "else:\n",
    "    print(\"Operação inválida! Escolha de 1 a 4\")\n",
    "\n"
   ]
  },
  {
   "cell_type": "code",
   "execution_count": null,
   "id": "32b26ede",
   "metadata": {},
   "outputs": [],
   "source": [
    "\n"
   ]
  },
  {
   "cell_type": "code",
   "execution_count": null,
   "id": "98fa9917",
   "metadata": {},
   "outputs": [],
   "source": []
  }
 ],
 "metadata": {
  "kernelspec": {
   "display_name": "Python 3 (ipykernel)",
   "language": "python",
   "name": "python3"
  },
  "language_info": {
   "codemirror_mode": {
    "name": "ipython",
    "version": 3
   },
   "file_extension": ".py",
   "mimetype": "text/x-python",
   "name": "python",
   "nbconvert_exporter": "python",
   "pygments_lexer": "ipython3",
   "version": "3.9.13"
  }
 },
 "nbformat": 4,
 "nbformat_minor": 5
}
